{
 "cells": [
  {
   "cell_type": "markdown",
   "id": "b13de65a",
   "metadata": {},
   "source": [
    "# 🫀 HEART DISEASE PROJECT"
   ]
  },
  {
   "cell_type": "markdown",
   "id": "25f6aae7",
   "metadata": {},
   "source": [
    "These are the steps that would be taken to complete or solve this problem:\n",
    "## Problem Definition\n",
    "\n",
    "\n",
    "## Data\n",
    "\n",
    "\n",
    "## Evaluation\n",
    "\n",
    "\n",
    "## Features\n",
    "\n",
    "\n",
    "## Modeling\n",
    "\n",
    "\n",
    "## Experimentation"
   ]
  },
  {
   "cell_type": "code",
   "execution_count": null,
   "id": "9118232c",
   "metadata": {},
   "outputs": [],
   "source": []
  }
 ],
 "metadata": {
  "kernelspec": {
   "display_name": "Python 3 (ipykernel)",
   "language": "python",
   "name": "python3"
  },
  "language_info": {
   "codemirror_mode": {
    "name": "ipython",
    "version": 3
   },
   "file_extension": ".py",
   "mimetype": "text/x-python",
   "name": "python",
   "nbconvert_exporter": "python",
   "pygments_lexer": "ipython3",
   "version": "3.11.3"
  }
 },
 "nbformat": 4,
 "nbformat_minor": 5
}
